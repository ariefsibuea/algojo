{
 "cells": [
  {
   "cell_type": "markdown",
   "id": "e1d3ce24",
   "metadata": {},
   "source": [
    "# Two Sum\n",
    "\n",
    "**Topic**: Array, Hash Table\n",
    "\n",
    "**Level**: Easy\n",
    "\n",
    "**URL**: https://leetcode.com/problems/two-sum/description\n"
   ]
  },
  {
   "cell_type": "markdown",
   "id": "317c9491",
   "metadata": {},
   "source": [
    "## Problem Description\n",
    "\n",
    "Finds two numbers in the given list that add up to the target and returns their indices.\n",
    "\n",
    "Example 1:\n",
    "\n",
    "> **Input:** nums = [2,7,11,15], target = 9  \n",
    "> **Output:** [0,1]  \n",
    "> **Explanation:** Because nums[0] + nums[1] == 9, we return [0, 1].\n",
    "\n",
    "Example 2:\n",
    "\n",
    "> Input: nums = [3,2,4], target = 6  \n",
    "> Output: [1,2]\n",
    "\n",
    "Example 3:\n",
    "\n",
    "> Input: nums = [3,3], target = 6  \n",
    "> Output: [0,1]\n"
   ]
  },
  {
   "cell_type": "markdown",
   "id": "92aaef5b",
   "metadata": {},
   "source": [
    "## Solution\n"
   ]
  },
  {
   "cell_type": "code",
   "execution_count": null,
   "id": "1168973c",
   "metadata": {},
   "outputs": [],
   "source": [
    "from typing import List\n",
    "\n",
    "\n",
    "class Solution:\n",
    "    def twoSum(self, nums: List[int], target: int) -> List[int]:\n",
    "        nums_map = {}\n",
    "        for i, num in enumerate(nums):\n",
    "            complement = target - num\n",
    "            if complement in nums_map:\n",
    "                return [nums_map[complement], i]\n",
    "            nums_map[num] = i\n",
    "        return nums_map"
   ]
  },
  {
   "cell_type": "markdown",
   "id": "841932bc",
   "metadata": {},
   "source": [
    "### Solution Explanation\n",
    "\n",
    "The solution uses a hash table (dictionary) to store each number and its index as we iterate through the list. For each number, we calculate its complement (the value needed to reach the target sum). If the complement is already in the hash table, we have found the two numbers that add up to the target, and we return their indices. This approach ensures that each element is checked only once.\n",
    "\n",
    "- Algorithm: Hash Table (Dictionary) Lookup\n",
    "- Time complexity: O(n) - Each element is visited once in a single pass through the list.\n",
    "- Space complexity: O(n) - In the worst case, all elements are stored in the hash table.\n"
   ]
  },
  {
   "cell_type": "markdown",
   "id": "d70510b5",
   "metadata": {},
   "source": [
    "## Testing\n"
   ]
  },
  {
   "cell_type": "code",
   "execution_count": null,
   "id": "9ec95609",
   "metadata": {},
   "outputs": [],
   "source": [
    "inputs = {\n",
    "    \"case_1\": [[2, 7, 11, 15], 9],\n",
    "    \"case_2\": [[3, 2, 4], 6],\n",
    "    \"case_3\": [[3, 3], 6],\n",
    "}\n",
    "outputs = {\"case_1\": [0, 1], \"case_2\": [1, 2], \"case_3\": [0, 1]}\n",
    "\n",
    "solution = Solution()\n",
    "\n",
    "for case, input in inputs.items():\n",
    "    result = solution.twoSum(input[0], input[1])\n",
    "    assert result == outputs[case], f\"Expected {outputs[case]}, got {result}\"\n",
    "\n",
    "print(\"✅ All tests passed!\")"
   ]
  }
 ],
 "metadata": {
  "kernelspec": {
   "display_name": ".venv",
   "language": "python",
   "name": "python3"
  },
  "language_info": {
   "codemirror_mode": {
    "name": "ipython",
    "version": 3
   },
   "file_extension": ".py",
   "mimetype": "text/x-python",
   "name": "python",
   "nbconvert_exporter": "python",
   "pygments_lexer": "ipython3",
   "version": "3.13.2"
  }
 },
 "nbformat": 4,
 "nbformat_minor": 5
}
