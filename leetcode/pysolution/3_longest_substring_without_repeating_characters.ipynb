{
 "cells": [
  {
   "cell_type": "markdown",
   "id": "0b412b65",
   "metadata": {},
   "source": [
    "# Longest Substring Without Repeating Characters\n",
    "\n",
    "**Topic**: Hash Table, String, Sliding Window\n",
    "\n",
    "**Level**: Medium\n",
    "\n",
    "**URL**: https://leetcode.com/problems/longest-substring-without-repeating-characters/description/\n"
   ]
  },
  {
   "cell_type": "markdown",
   "id": "b8a03d96",
   "metadata": {},
   "source": [
    "## Problem Description\n",
    "\n",
    "Given a string `s`, find the length of the longest substring without repeating characters.\n",
    "\n",
    "Example 1:\n",
    "\n",
    "> **Input:** s = \"abcabcbb\"  \n",
    "> **Output:** 3  \n",
    "> **Explanation:** The answer is \"abc\", with the length of 3.\n",
    "\n",
    "Example 2:\n",
    "\n",
    "> **Input:** s = \"bbbbb\"  \n",
    "> **Output:** 1  \n",
    "> **Explanation:** The answer is \"b\", with the length of 1.\n",
    "\n",
    "Example 3:\n",
    "\n",
    "> **Input:** s = \"pwwkew\"  \n",
    "> **Output:** 3  \n",
    "> **Explanation:** The answer is \"wke\", with the length of 3.\n",
    "> Notice that the answer must be a substring, \"pwke\" is a subsequence and not a substring.\n"
   ]
  },
  {
   "cell_type": "markdown",
   "id": "5895efb3",
   "metadata": {},
   "source": [
    "## Solution\n"
   ]
  },
  {
   "cell_type": "code",
   "execution_count": null,
   "id": "bb85175d",
   "metadata": {},
   "outputs": [],
   "source": [
    "class Solution:\n",
    "    def lengthOfLongestSubstring(self, s: str) -> int:\n",
    "        char_map = {}\n",
    "        max_length = 0\n",
    "        start = 0\n",
    "\n",
    "        for i, c in enumerate(s):\n",
    "            if c in char_map and char_map[c] >= start:\n",
    "                start = char_map[c] + 1\n",
    "\n",
    "            char_map[c] = i\n",
    "            max_length = max(max_length, (i - start) + 1)\n",
    "\n",
    "        return max_length"
   ]
  },
  {
   "cell_type": "markdown",
   "id": "c4a264e0",
   "metadata": {},
   "source": [
    "### Solution Explanation\n",
    "\n",
    "This solution uses the sliding window technique with a hash map to efficiently find the longest substring without repeating characters.\n",
    "\n",
    "Here's how it works:\n",
    "\n",
    "1. We maintain a sliding window using a start pointer and the current index i.\n",
    "2. For each character, we check if it's been seen before and if its last position is after our current window start.\n",
    "3. If so, we move the start pointer to just after the last occurrence of the current character.\n",
    "4. We keep track of each character's last seen position in a hash map.\n",
    "5. For each position, we calculate the current window length and update max_length if needed.\n",
    "\n",
    "- Algorithm: Sliding Window with Hash Map\n",
    "- Time complexity: O(n) - Where n is the length of the input string, as we only traverse the string once.\n",
    "- Space complexity: O(min(n, a)) - Where a is the size of the character set (e.g., 26 for lowercase English letters).\n"
   ]
  },
  {
   "cell_type": "markdown",
   "id": "f96c6136",
   "metadata": {},
   "source": [
    "## Testing\n"
   ]
  },
  {
   "cell_type": "code",
   "execution_count": null,
   "id": "1716f0fd",
   "metadata": {},
   "outputs": [],
   "source": [
    "inputs = {\n",
    "    \"case_1\": [\"abcabcbb\"],\n",
    "    \"case_2\": [\"bbbbb\"],\n",
    "    \"case_3\": [\"pwwkew\"],\n",
    "    \"case_4\": [\"au\"],\n",
    "    \"case_5\": [\"dvdf\"],\n",
    "}\n",
    "outputs = {\"case_1\": 3, \"case_2\": 1, \"case_3\": 3, \"case_4\": 2, \"case_5\": 3}\n",
    "\n",
    "solution = Solution()\n",
    "\n",
    "for case, input in inputs.items():\n",
    "    result = solution.lengthOfLongestSubstring(input[0])\n",
    "    assert result == outputs[case], f\"{case}: expected {outputs[case]}, got {result}\"\n",
    "\n",
    "print(\"✅ All tests passed!\")"
   ]
  }
 ],
 "metadata": {
  "kernelspec": {
   "display_name": ".venv",
   "language": "python",
   "name": "python3"
  },
  "language_info": {
   "codemirror_mode": {
    "name": "ipython",
    "version": 3
   },
   "file_extension": ".py",
   "mimetype": "text/x-python",
   "name": "python",
   "nbconvert_exporter": "python",
   "pygments_lexer": "ipython3",
   "version": "3.13.2"
  }
 },
 "nbformat": 4,
 "nbformat_minor": 5
}
